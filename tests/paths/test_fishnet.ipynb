{
 "cells": [
  {
   "cell_type": "code",
   "execution_count": 1,
   "id": "162c0719-d3c8-4948-8765-7f0fc143db80",
   "metadata": {
    "execution": {
     "iopub.execute_input": "2023-09-28T13:56:12.092116Z",
     "iopub.status.busy": "2023-09-28T13:56:12.091813Z",
     "iopub.status.idle": "2023-09-28T13:56:12.161698Z",
     "shell.execute_reply": "2023-09-28T13:56:12.158684Z"
    }
   },
   "outputs": [],
   "source": [
    "import numpy as np\n",
    "rng = np.random.default_rng(0)\n",
    "n, p = 4, 5\n",
    "X = rng.standard_normal((n, p))\n",
    "Y = rng.poisson(lam=20, size=n)"
   ]
  },
  {
   "cell_type": "code",
   "execution_count": 2,
   "id": "3b288fee-d73e-4bce-8fcf-af2e59319fee",
   "metadata": {
    "execution": {
     "iopub.execute_input": "2023-09-28T13:56:12.175194Z",
     "iopub.status.busy": "2023-09-28T13:56:12.174678Z",
     "iopub.status.idle": "2023-09-28T13:56:13.046880Z",
     "shell.execute_reply": "2023-09-28T13:56:13.046537Z"
    }
   },
   "outputs": [
    {
     "data": {
      "text/html": [
       "<style>#sk-container-id-1 {color: black;}#sk-container-id-1 pre{padding: 0;}#sk-container-id-1 div.sk-toggleable {background-color: white;}#sk-container-id-1 label.sk-toggleable__label {cursor: pointer;display: block;width: 100%;margin-bottom: 0;padding: 0.3em;box-sizing: border-box;text-align: center;}#sk-container-id-1 label.sk-toggleable__label-arrow:before {content: \"▸\";float: left;margin-right: 0.25em;color: #696969;}#sk-container-id-1 label.sk-toggleable__label-arrow:hover:before {color: black;}#sk-container-id-1 div.sk-estimator:hover label.sk-toggleable__label-arrow:before {color: black;}#sk-container-id-1 div.sk-toggleable__content {max-height: 0;max-width: 0;overflow: hidden;text-align: left;background-color: #f0f8ff;}#sk-container-id-1 div.sk-toggleable__content pre {margin: 0.2em;color: black;border-radius: 0.25em;background-color: #f0f8ff;}#sk-container-id-1 input.sk-toggleable__control:checked~div.sk-toggleable__content {max-height: 200px;max-width: 100%;overflow: auto;}#sk-container-id-1 input.sk-toggleable__control:checked~label.sk-toggleable__label-arrow:before {content: \"▾\";}#sk-container-id-1 div.sk-estimator input.sk-toggleable__control:checked~label.sk-toggleable__label {background-color: #d4ebff;}#sk-container-id-1 div.sk-label input.sk-toggleable__control:checked~label.sk-toggleable__label {background-color: #d4ebff;}#sk-container-id-1 input.sk-hidden--visually {border: 0;clip: rect(1px 1px 1px 1px);clip: rect(1px, 1px, 1px, 1px);height: 1px;margin: -1px;overflow: hidden;padding: 0;position: absolute;width: 1px;}#sk-container-id-1 div.sk-estimator {font-family: monospace;background-color: #f0f8ff;border: 1px dotted black;border-radius: 0.25em;box-sizing: border-box;margin-bottom: 0.5em;}#sk-container-id-1 div.sk-estimator:hover {background-color: #d4ebff;}#sk-container-id-1 div.sk-parallel-item::after {content: \"\";width: 100%;border-bottom: 1px solid gray;flex-grow: 1;}#sk-container-id-1 div.sk-label:hover label.sk-toggleable__label {background-color: #d4ebff;}#sk-container-id-1 div.sk-serial::before {content: \"\";position: absolute;border-left: 1px solid gray;box-sizing: border-box;top: 0;bottom: 0;left: 50%;z-index: 0;}#sk-container-id-1 div.sk-serial {display: flex;flex-direction: column;align-items: center;background-color: white;padding-right: 0.2em;padding-left: 0.2em;position: relative;}#sk-container-id-1 div.sk-item {position: relative;z-index: 1;}#sk-container-id-1 div.sk-parallel {display: flex;align-items: stretch;justify-content: center;background-color: white;position: relative;}#sk-container-id-1 div.sk-item::before, #sk-container-id-1 div.sk-parallel-item::before {content: \"\";position: absolute;border-left: 1px solid gray;box-sizing: border-box;top: 0;bottom: 0;left: 50%;z-index: -1;}#sk-container-id-1 div.sk-parallel-item {display: flex;flex-direction: column;z-index: 1;position: relative;background-color: white;}#sk-container-id-1 div.sk-parallel-item:first-child::after {align-self: flex-end;width: 50%;}#sk-container-id-1 div.sk-parallel-item:last-child::after {align-self: flex-start;width: 50%;}#sk-container-id-1 div.sk-parallel-item:only-child::after {width: 0;}#sk-container-id-1 div.sk-dashed-wrapped {border: 1px dashed gray;margin: 0 0.4em 0.5em 0.4em;box-sizing: border-box;padding-bottom: 0.4em;background-color: white;}#sk-container-id-1 div.sk-label label {font-family: monospace;font-weight: bold;display: inline-block;line-height: 1.2em;}#sk-container-id-1 div.sk-label-container {text-align: center;}#sk-container-id-1 div.sk-container {/* jupyter's `normalize.less` sets `[hidden] { display: none; }` but bootstrap.min.css set `[hidden] { display: none !important; }` so we also need the `!important` here to be able to override the default hidden behavior on the sphinx rendered scikit-learn.org. See: https://github.com/scikit-learn/scikit-learn/issues/21755 */display: inline-block !important;position: relative;}#sk-container-id-1 div.sk-text-repr-fallback {display: none;}</style><div id=\"sk-container-id-1\" class=\"sk-top-container\"><div class=\"sk-text-repr-fallback\"><pre>FishNet(lambda_values=None, lambda_fractional=True, alpha=1.0, lower_limits=array([-9.9e+35, -9.9e+35, -9.9e+35, -9.9e+35, -9.9e+35]), upper_limits=array([9.9e+35, 9.9e+35, 9.9e+35, 9.9e+35, 9.9e+35]), penalty_factor=array([[1.],\n",
       "       [1.],\n",
       "       [1.],\n",
       "       [1.],\n",
       "       [1.]]), fit_intercept=True, standardize=True, family=GLMFamilySpec(base=&lt;statsmodels.genmod.families.family.Gaussian object at 0x105fd38b0&gt;), control=GLMNetControl(thresh=1e-07, maxit=100000, big=9.9e+35, logging=False, mxitnr=25, epsnr=1e-06, fdev=1e-05), regularized_estimator=&lt;class &#x27;glmnet.regularized_glm.RegGLM&#x27;&gt;, lambda_min_ratio=0.2, nlambda=3, df_max=6, univariate_beta=True, type_logistic=&#x27;Newton&#x27;)</pre><b>In a Jupyter environment, please rerun this cell to show the HTML representation or trust the notebook. <br />On GitHub, the HTML representation is unable to render, please try loading this page with nbviewer.org.</b></div><div class=\"sk-container\" hidden><div class=\"sk-item\"><div class=\"sk-estimator sk-toggleable\"><input class=\"sk-toggleable__control sk-hidden--visually\" id=\"sk-estimator-id-1\" type=\"checkbox\" checked><label for=\"sk-estimator-id-1\" class=\"sk-toggleable__label sk-toggleable__label-arrow\">FishNet</label><div class=\"sk-toggleable__content\"><pre>FishNet(lambda_values=None, lambda_fractional=True, alpha=1.0, lower_limits=array([-9.9e+35, -9.9e+35, -9.9e+35, -9.9e+35, -9.9e+35]), upper_limits=array([9.9e+35, 9.9e+35, 9.9e+35, 9.9e+35, 9.9e+35]), penalty_factor=array([[1.],\n",
       "       [1.],\n",
       "       [1.],\n",
       "       [1.],\n",
       "       [1.]]), fit_intercept=True, standardize=True, family=GLMFamilySpec(base=&lt;statsmodels.genmod.families.family.Gaussian object at 0x105fd38b0&gt;), control=GLMNetControl(thresh=1e-07, maxit=100000, big=9.9e+35, logging=False, mxitnr=25, epsnr=1e-06, fdev=1e-05), regularized_estimator=&lt;class &#x27;glmnet.regularized_glm.RegGLM&#x27;&gt;, lambda_min_ratio=0.2, nlambda=3, df_max=6, univariate_beta=True, type_logistic=&#x27;Newton&#x27;)</pre></div></div></div></div></div>"
      ],
      "text/plain": [
       "FishNet(lambda_values=None, lambda_fractional=True, alpha=1.0, lower_limits=array([-9.9e+35, -9.9e+35, -9.9e+35, -9.9e+35, -9.9e+35]), upper_limits=array([9.9e+35, 9.9e+35, 9.9e+35, 9.9e+35, 9.9e+35]), penalty_factor=array([[1.],\n",
       "       [1.],\n",
       "       [1.],\n",
       "       [1.],\n",
       "       [1.]]), fit_intercept=True, standardize=True, family=GLMFamilySpec(base=<statsmodels.genmod.families.family.Gaussian object at 0x105fd38b0>), control=GLMNetControl(thresh=1e-07, maxit=100000, big=9.9e+35, logging=False, mxitnr=25, epsnr=1e-06, fdev=1e-05), regularized_estimator=<class 'glmnet.regularized_glm.RegGLM'>, lambda_min_ratio=0.2, nlambda=3, df_max=6, univariate_beta=True, type_logistic='Newton')"
      ]
     },
     "execution_count": 2,
     "metadata": {},
     "output_type": "execute_result"
    }
   ],
   "source": [
    "from glmnet import FishNet\n",
    "nlambda, lambda_min_ratio = 3, 0.2\n",
    "L = FishNet(nlambda=nlambda, lambda_min_ratio=lambda_min_ratio)\n",
    "L.fit(X, Y)\n"
   ]
  },
  {
   "cell_type": "code",
   "execution_count": 3,
   "id": "7c3d7d2c-807a-4726-8f56-285a81efc51a",
   "metadata": {
    "execution": {
     "iopub.execute_input": "2023-09-28T13:56:13.048707Z",
     "iopub.status.busy": "2023-09-28T13:56:13.048498Z",
     "iopub.status.idle": "2023-09-28T13:56:13.464417Z",
     "shell.execute_reply": "2023-09-28T13:56:13.463991Z"
    }
   },
   "outputs": [],
   "source": [
    "import rpy2\n",
    "%load_ext rpy2.ipython\n",
    "%R -i X,Y,nlambda,lambda_min_ratio"
   ]
  },
  {
   "cell_type": "code",
   "execution_count": 4,
   "id": "6abd6556-a034-4400-a437-616848cfffa5",
   "metadata": {
    "execution": {
     "iopub.execute_input": "2023-09-28T13:56:13.466279Z",
     "iopub.status.busy": "2023-09-28T13:56:13.466141Z",
     "iopub.status.idle": "2023-09-28T13:56:13.996880Z",
     "shell.execute_reply": "2023-09-28T13:56:13.996610Z"
    }
   },
   "outputs": [
    {
     "name": "stdout",
     "output_type": "stream",
     "text": [
      "\n",
      "Call:  glmnet(x = X, y = Y, family = \"poisson\", nlambda = nlambda, lambda.min.ratio = lambda_min_ratio) \n",
      "\n",
      "  Df  %Dev Lambda\n",
      "1  0  0.00 0.6751\n",
      "2  2 76.82 0.3019\n",
      "3  3 95.28 0.1350\n"
     ]
    },
    {
     "data": {
      "text/plain": [
       "Loading required package: Matrix\n",
       "Loaded glmnet 4.1-8\n"
      ]
     },
     "metadata": {},
     "output_type": "display_data"
    },
    {
     "data": {
      "image/png": "[encoded data removed]",
      "text/plain": [
       "<IPython.core.display.Image object>"
      ]
     },
     "metadata": {},
     "output_type": "display_data"
    }
   ],
   "source": [
    "%%R\n",
    "library(glmnet)\n",
    "G = glmnet(X, Y, family='poisson', nlam=nlambda, lambda.min.ratio=lambda_min_ratio)\n",
    "plot(G)\n",
    "G"
   ]
  },
  {
   "cell_type": "code",
   "execution_count": 5,
   "id": "24dbe340-7998-47b6-b2d5-c2bb026cd06b",
   "metadata": {
    "execution": {
     "iopub.execute_input": "2023-09-28T13:56:13.998334Z",
     "iopub.status.busy": "2023-09-28T13:56:13.998253Z",
     "iopub.status.idle": "2023-09-28T13:56:14.321250Z",
     "shell.execute_reply": "2023-09-28T13:56:14.320479Z"
    }
   },
   "outputs": [
    {
     "data": {
      "image/png": "[encoded data removed]",
      "text/plain": [
       "<Figure size 640x480 with 1 Axes>"
      ]
     },
     "metadata": {},
     "output_type": "display_data"
    }
   ],
   "source": [
    "ax = L.plot_coefficients(xvar='norm')"
   ]
  },
  {
   "cell_type": "code",
   "execution_count": 6,
   "id": "f9f02faa-cdc3-41c1-aa8b-24f67f654adc",
   "metadata": {
    "execution": {
     "iopub.execute_input": "2023-09-28T13:56:14.326036Z",
     "iopub.status.busy": "2023-09-28T13:56:14.325642Z",
     "iopub.status.idle": "2023-09-28T13:56:14.341079Z",
     "shell.execute_reply": "2023-09-28T13:56:14.340377Z"
    }
   },
   "outputs": [
    {
     "data": {
      "text/html": [
       "<div>\n",
       "<style scoped>\n",
       "    .dataframe tbody tr th:only-of-type {\n",
       "        vertical-align: middle;\n",
       "    }\n",
       "\n",
       "    .dataframe tbody tr th {\n",
       "        vertical-align: top;\n",
       "    }\n",
       "\n",
       "    .dataframe thead th {\n",
       "        text-align: right;\n",
       "    }\n",
       "</style>\n",
       "<table border=\"1\" class=\"dataframe\">\n",
       "  <thead>\n",
       "    <tr style=\"text-align: right;\">\n",
       "      <th></th>\n",
       "      <th>Degrees of Freedom</th>\n",
       "      <th>Fraction Deviance Explained</th>\n",
       "    </tr>\n",
       "    <tr>\n",
       "      <th>lambda</th>\n",
       "      <th></th>\n",
       "      <th></th>\n",
       "    </tr>\n",
       "  </thead>\n",
       "  <tbody>\n",
       "    <tr>\n",
       "      <th>9.900000e+35</th>\n",
       "      <td>0</td>\n",
       "      <td>6.250622e-13</td>\n",
       "    </tr>\n",
       "    <tr>\n",
       "      <th>3.019251e-01</th>\n",
       "      <td>2</td>\n",
       "      <td>7.682079e-01</td>\n",
       "    </tr>\n",
       "    <tr>\n",
       "      <th>1.350250e-01</th>\n",
       "      <td>3</td>\n",
       "      <td>9.527552e-01</td>\n",
       "    </tr>\n",
       "  </tbody>\n",
       "</table>\n",
       "</div>"
      ],
      "text/plain": [
       "              Degrees of Freedom  Fraction Deviance Explained\n",
       "lambda                                                       \n",
       "9.900000e+35                   0                 6.250622e-13\n",
       "3.019251e-01                   2                 7.682079e-01\n",
       "1.350250e-01                   3                 9.527552e-01"
      ]
     },
     "execution_count": 6,
     "metadata": {},
     "output_type": "execute_result"
    }
   ],
   "source": [
    "L.summary_"
   ]
  },
  {
   "cell_type": "code",
   "execution_count": 7,
   "id": "cde1e857-9a2a-4e21-aa7a-619b7606804e",
   "metadata": {
    "execution": {
     "iopub.execute_input": "2023-09-28T13:56:14.345611Z",
     "iopub.status.busy": "2023-09-28T13:56:14.345212Z",
     "iopub.status.idle": "2023-09-28T13:56:14.358709Z",
     "shell.execute_reply": "2023-09-28T13:56:14.357878Z"
    }
   },
   "outputs": [],
   "source": [
    "%%R -o C_R,I_R\n",
    "C_R = as.matrix(coef(G))[-1,]\n",
    "I_R = as.matrix(coef(G))[1,]"
   ]
  },
  {
   "cell_type": "code",
   "execution_count": 8,
   "id": "cfd9b1d2-2651-43c8-86ba-910d15e9c30a",
   "metadata": {
    "execution": {
     "iopub.execute_input": "2023-09-28T13:56:14.364455Z",
     "iopub.status.busy": "2023-09-28T13:56:14.363992Z",
     "iopub.status.idle": "2023-09-28T13:56:14.373965Z",
     "shell.execute_reply": "2023-09-28T13:56:14.373266Z"
    }
   },
   "outputs": [
    {
     "data": {
      "text/plain": [
       "1.8343192275800168e-14"
      ]
     },
     "execution_count": 8,
     "metadata": {},
     "output_type": "execute_result"
    }
   ],
   "source": [
    "np.linalg.norm(C_R.T - L.coefs_) / np.linalg.norm(L.coefs_)"
   ]
  },
  {
   "cell_type": "code",
   "execution_count": 9,
   "id": "6b9a4d80-80e0-48a4-b396-e825fdd51908",
   "metadata": {
    "execution": {
     "iopub.execute_input": "2023-09-28T13:56:14.378946Z",
     "iopub.status.busy": "2023-09-28T13:56:14.378540Z",
     "iopub.status.idle": "2023-09-28T13:56:14.386176Z",
     "shell.execute_reply": "2023-09-28T13:56:14.385419Z"
    }
   },
   "outputs": [
    {
     "data": {
      "text/plain": [
       "8.291545089665639e-17"
      ]
     },
     "execution_count": 9,
     "metadata": {},
     "output_type": "execute_result"
    }
   ],
   "source": [
    "np.linalg.norm(I_R - L.intercepts_) / np.linalg.norm(L.intercepts_)"
   ]
  },
  {
   "cell_type": "code",
   "execution_count": 10,
   "id": "d6fcde13-f218-474a-981f-3fca633390e3",
   "metadata": {
    "execution": {
     "iopub.execute_input": "2023-09-28T13:56:14.391176Z",
     "iopub.status.busy": "2023-09-28T13:56:14.390794Z",
     "iopub.status.idle": "2023-09-28T13:56:14.398326Z",
     "shell.execute_reply": "2023-09-28T13:56:14.397608Z"
    }
   },
   "outputs": [
    {
     "data": {
      "text/plain": [
       "(3, 5)"
      ]
     },
     "execution_count": 10,
     "metadata": {},
     "output_type": "execute_result"
    }
   ],
   "source": [
    "L.coefs_.shape"
   ]
  },
  {
   "cell_type": "code",
   "execution_count": 11,
   "id": "0937cf14-47fe-4943-b910-4d525b8c9bd4",
   "metadata": {
    "execution": {
     "iopub.execute_input": "2023-09-28T13:56:14.405153Z",
     "iopub.status.busy": "2023-09-28T13:56:14.404577Z",
     "iopub.status.idle": "2023-09-28T13:56:14.412989Z",
     "shell.execute_reply": "2023-09-28T13:56:14.412278Z"
    }
   },
   "outputs": [
    {
     "data": {
      "text/plain": [
       "4"
      ]
     },
     "execution_count": 11,
     "metadata": {},
     "output_type": "execute_result"
    }
   ],
   "source": [
    "L._fit['nin'].max()"
   ]
  },
  {
   "cell_type": "code",
   "execution_count": null,
   "id": "814a5e84-2fbb-4288-86c0-943fc3c4feff",
   "metadata": {},
   "outputs": [],
   "source": []
  }
 ],
 "metadata": {
  "jupytext": {
   "formats": "ipynb,Rmd"
  },
  "kernelspec": {
   "display_name": "Python 3 (ipykernel)",
   "language": "python",
   "name": "python3"
  },
  "language_info": {
   "codemirror_mode": {
    "name": "ipython",
    "version": 3
   },
   "file_extension": ".py",
   "mimetype": "text/x-python",
   "name": "python",
   "nbconvert_exporter": "python",
   "pygments_lexer": "ipython3",
   "version": "3.10.12"
  }
 },
 "nbformat": 4,
 "nbformat_minor": 5
}
