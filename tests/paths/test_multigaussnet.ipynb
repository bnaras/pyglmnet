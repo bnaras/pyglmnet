{
 "cells": [
  {
   "cell_type": "code",
   "execution_count": 1,
   "id": "162c0719-d3c8-4948-8765-7f0fc143db80",
   "metadata": {},
   "outputs": [],
   "source": [
    "import numpy as np\n",
    "rng = np.random.default_rng(0)\n",
    "n, p, q = 200, 8, 3\n",
    "X = rng.standard_normal((n, p))\n",
    "Y = rng.standard_normal((n, q))"
   ]
  },
  {
   "cell_type": "code",
   "execution_count": 2,
   "id": "3b288fee-d73e-4bce-8fcf-af2e59319fee",
   "metadata": {},
   "outputs": [
    {
     "data": {
      "text/html": [
       "<style>#sk-container-id-1 {color: black;}#sk-container-id-1 pre{padding: 0;}#sk-container-id-1 div.sk-toggleable {background-color: white;}#sk-container-id-1 label.sk-toggleable__label {cursor: pointer;display: block;width: 100%;margin-bottom: 0;padding: 0.3em;box-sizing: border-box;text-align: center;}#sk-container-id-1 label.sk-toggleable__label-arrow:before {content: \"▸\";float: left;margin-right: 0.25em;color: #696969;}#sk-container-id-1 label.sk-toggleable__label-arrow:hover:before {color: black;}#sk-container-id-1 div.sk-estimator:hover label.sk-toggleable__label-arrow:before {color: black;}#sk-container-id-1 div.sk-toggleable__content {max-height: 0;max-width: 0;overflow: hidden;text-align: left;background-color: #f0f8ff;}#sk-container-id-1 div.sk-toggleable__content pre {margin: 0.2em;color: black;border-radius: 0.25em;background-color: #f0f8ff;}#sk-container-id-1 input.sk-toggleable__control:checked~div.sk-toggleable__content {max-height: 200px;max-width: 100%;overflow: auto;}#sk-container-id-1 input.sk-toggleable__control:checked~label.sk-toggleable__label-arrow:before {content: \"▾\";}#sk-container-id-1 div.sk-estimator input.sk-toggleable__control:checked~label.sk-toggleable__label {background-color: #d4ebff;}#sk-container-id-1 div.sk-label input.sk-toggleable__control:checked~label.sk-toggleable__label {background-color: #d4ebff;}#sk-container-id-1 input.sk-hidden--visually {border: 0;clip: rect(1px 1px 1px 1px);clip: rect(1px, 1px, 1px, 1px);height: 1px;margin: -1px;overflow: hidden;padding: 0;position: absolute;width: 1px;}#sk-container-id-1 div.sk-estimator {font-family: monospace;background-color: #f0f8ff;border: 1px dotted black;border-radius: 0.25em;box-sizing: border-box;margin-bottom: 0.5em;}#sk-container-id-1 div.sk-estimator:hover {background-color: #d4ebff;}#sk-container-id-1 div.sk-parallel-item::after {content: \"\";width: 100%;border-bottom: 1px solid gray;flex-grow: 1;}#sk-container-id-1 div.sk-label:hover label.sk-toggleable__label {background-color: #d4ebff;}#sk-container-id-1 div.sk-serial::before {content: \"\";position: absolute;border-left: 1px solid gray;box-sizing: border-box;top: 0;bottom: 0;left: 50%;z-index: 0;}#sk-container-id-1 div.sk-serial {display: flex;flex-direction: column;align-items: center;background-color: white;padding-right: 0.2em;padding-left: 0.2em;position: relative;}#sk-container-id-1 div.sk-item {position: relative;z-index: 1;}#sk-container-id-1 div.sk-parallel {display: flex;align-items: stretch;justify-content: center;background-color: white;position: relative;}#sk-container-id-1 div.sk-item::before, #sk-container-id-1 div.sk-parallel-item::before {content: \"\";position: absolute;border-left: 1px solid gray;box-sizing: border-box;top: 0;bottom: 0;left: 50%;z-index: -1;}#sk-container-id-1 div.sk-parallel-item {display: flex;flex-direction: column;z-index: 1;position: relative;background-color: white;}#sk-container-id-1 div.sk-parallel-item:first-child::after {align-self: flex-end;width: 50%;}#sk-container-id-1 div.sk-parallel-item:last-child::after {align-self: flex-start;width: 50%;}#sk-container-id-1 div.sk-parallel-item:only-child::after {width: 0;}#sk-container-id-1 div.sk-dashed-wrapped {border: 1px dashed gray;margin: 0 0.4em 0.5em 0.4em;box-sizing: border-box;padding-bottom: 0.4em;background-color: white;}#sk-container-id-1 div.sk-label label {font-family: monospace;font-weight: bold;display: inline-block;line-height: 1.2em;}#sk-container-id-1 div.sk-label-container {text-align: center;}#sk-container-id-1 div.sk-container {/* jupyter's `normalize.less` sets `[hidden] { display: none; }` but bootstrap.min.css set `[hidden] { display: none !important; }` so we also need the `!important` here to be able to override the default hidden behavior on the sphinx rendered scikit-learn.org. See: https://github.com/scikit-learn/scikit-learn/issues/21755 */display: inline-block !important;position: relative;}#sk-container-id-1 div.sk-text-repr-fallback {display: none;}</style><div id=\"sk-container-id-1\" class=\"sk-top-container\"><div class=\"sk-text-repr-fallback\"><pre>MultiGaussNet(lambda_values=None, lambda_fractional=True, alpha=1.0, lower_limits=array([-9.9e+35, -9.9e+35, -9.9e+35, -9.9e+35, -9.9e+35, -9.9e+35,\n",
       "       -9.9e+35, -9.9e+35]), upper_limits=array([9.9e+35, 9.9e+35, 9.9e+35, 9.9e+35, 9.9e+35, 9.9e+35, 9.9e+35,\n",
       "       9.9e+35]), penalty_factor=array([[1.],\n",
       "       [1.],\n",
       "       [1.],\n",
       "       [1.],\n",
       "       [1.],\n",
       "       [1.],\n",
       "       [1.],\n",
       "       [1.]]), fit_intercept=True, standardize=True, family=GLMFamilySpec(base=&lt;statsmodels.genmod.families.family.Gaussian object at 0x104b46ec0&gt;), control=GLMNetControl(thresh=1e-07, maxit=100000, big=9.9e+35, logging=False, mxitnr=25, epsnr=1e-06, fdev=1e-05), regularized_estimator=&lt;class &#x27;glmnet.paths.regularized_glm.RegGLM&#x27;&gt;, lambda_min_ratio=0.0001, nlambda=7, df_max=9, standardize_response=False, univariate_beta=True, type_logistic=&#x27;Newton&#x27;)</pre><b>In a Jupyter environment, please rerun this cell to show the HTML representation or trust the notebook. <br />On GitHub, the HTML representation is unable to render, please try loading this page with nbviewer.org.</b></div><div class=\"sk-container\" hidden><div class=\"sk-item\"><div class=\"sk-estimator sk-toggleable\"><input class=\"sk-toggleable__control sk-hidden--visually\" id=\"sk-estimator-id-1\" type=\"checkbox\" checked><label for=\"sk-estimator-id-1\" class=\"sk-toggleable__label sk-toggleable__label-arrow\">MultiGaussNet</label><div class=\"sk-toggleable__content\"><pre>MultiGaussNet(lambda_values=None, lambda_fractional=True, alpha=1.0, lower_limits=array([-9.9e+35, -9.9e+35, -9.9e+35, -9.9e+35, -9.9e+35, -9.9e+35,\n",
       "       -9.9e+35, -9.9e+35]), upper_limits=array([9.9e+35, 9.9e+35, 9.9e+35, 9.9e+35, 9.9e+35, 9.9e+35, 9.9e+35,\n",
       "       9.9e+35]), penalty_factor=array([[1.],\n",
       "       [1.],\n",
       "       [1.],\n",
       "       [1.],\n",
       "       [1.],\n",
       "       [1.],\n",
       "       [1.],\n",
       "       [1.]]), fit_intercept=True, standardize=True, family=GLMFamilySpec(base=&lt;statsmodels.genmod.families.family.Gaussian object at 0x104b46ec0&gt;), control=GLMNetControl(thresh=1e-07, maxit=100000, big=9.9e+35, logging=False, mxitnr=25, epsnr=1e-06, fdev=1e-05), regularized_estimator=&lt;class &#x27;glmnet.paths.regularized_glm.RegGLM&#x27;&gt;, lambda_min_ratio=0.0001, nlambda=7, df_max=9, standardize_response=False, univariate_beta=True, type_logistic=&#x27;Newton&#x27;)</pre></div></div></div></div></div>"
      ],
      "text/plain": [
       "MultiGaussNet(lambda_values=None, lambda_fractional=True, alpha=1.0, lower_limits=array([-9.9e+35, -9.9e+35, -9.9e+35, -9.9e+35, -9.9e+35, -9.9e+35,\n",
       "       -9.9e+35, -9.9e+35]), upper_limits=array([9.9e+35, 9.9e+35, 9.9e+35, 9.9e+35, 9.9e+35, 9.9e+35, 9.9e+35,\n",
       "       9.9e+35]), penalty_factor=array([[1.],\n",
       "       [1.],\n",
       "       [1.],\n",
       "       [1.],\n",
       "       [1.],\n",
       "       [1.],\n",
       "       [1.],\n",
       "       [1.]]), fit_intercept=True, standardize=True, family=GLMFamilySpec(base=<statsmodels.genmod.families.family.Gaussian object at 0x104b46ec0>), control=GLMNetControl(thresh=1e-07, maxit=100000, big=9.9e+35, logging=False, mxitnr=25, epsnr=1e-06, fdev=1e-05), regularized_estimator=<class 'glmnet.paths.regularized_glm.RegGLM'>, lambda_min_ratio=0.0001, nlambda=7, df_max=9, standardize_response=False, univariate_beta=True, type_logistic='Newton')"
      ]
     },
     "execution_count": 2,
     "metadata": {},
     "output_type": "execute_result"
    }
   ],
   "source": [
    "from glmnet import MultiGaussNet\n",
    "nlambda = 7\n",
    "L = MultiGaussNet(nlambda=nlambda)\n",
    "L.fit(X, Y)\n"
   ]
  },
  {
   "cell_type": "code",
   "execution_count": 3,
   "id": "7c3d7d2c-807a-4726-8f56-285a81efc51a",
   "metadata": {},
   "outputs": [],
   "source": [
    "import rpy2\n",
    "%load_ext rpy2.ipython\n",
    "%R -i X,Y,nlambda"
   ]
  },
  {
   "cell_type": "code",
   "execution_count": 4,
   "id": "cbfa178c-258e-418c-bc13-66bc82d1d30a",
   "metadata": {},
   "outputs": [
    {
     "data": {
      "text/plain": [
       "array([ 0.12573022, -0.13210486,  0.64042265,  0.10490012, -0.53566937,\n",
       "        0.36159505,  1.30400005,  0.94708096])"
      ]
     },
     "execution_count": 4,
     "metadata": {},
     "output_type": "execute_result"
    }
   ],
   "source": [
    "X[0]"
   ]
  },
  {
   "cell_type": "code",
   "execution_count": 5,
   "id": "6abd6556-a034-4400-a437-616848cfffa5",
   "metadata": {},
   "outputs": [
    {
     "name": "stdout",
     "output_type": "stream",
     "text": [
      "\n",
      "Call:  glmnet(x = X, y = Y, family = \"mgaussian\", nlambda = nlambda) \n",
      "\n",
      "  Df %Dev   Lambda\n",
      "1  0 0.00 0.152000\n",
      "2  8 2.82 0.032740\n",
      "3  8 3.06 0.007054\n",
      "4  8 3.07 0.001520\n",
      "5  8 3.07 0.000327\n"
     ]
    },
    {
     "data": {
      "text/plain": [
       "Loading required package: Matrix\n",
       "Loaded glmnet 4.1-8\n"
      ]
     },
     "metadata": {},
     "output_type": "display_data"
    },
    {
     "data": {
      "image/png": "[encoded data removed]",
      "text/plain": [
       "<IPython.core.display.Image object>"
      ]
     },
     "metadata": {},
     "output_type": "display_data"
    }
   ],
   "source": [
    "%%R\n",
    "library(glmnet)\n",
    "G = glmnet(X, Y, family='mgaussian', nlambda=nlambda)\n",
    "plot(G)\n",
    "G"
   ]
  },
  {
   "cell_type": "code",
   "execution_count": 6,
   "id": "24dbe340-7998-47b6-b2d5-c2bb026cd06b",
   "metadata": {},
   "outputs": [],
   "source": [
    "#ax = L.plot_coefficients(xvar='norm')"
   ]
  },
  {
   "cell_type": "code",
   "execution_count": 7,
   "id": "f9f02faa-cdc3-41c1-aa8b-24f67f654adc",
   "metadata": {},
   "outputs": [
    {
     "data": {
      "text/html": [
       "<div>\n",
       "<style scoped>\n",
       "    .dataframe tbody tr th:only-of-type {\n",
       "        vertical-align: middle;\n",
       "    }\n",
       "\n",
       "    .dataframe tbody tr th {\n",
       "        vertical-align: top;\n",
       "    }\n",
       "\n",
       "    .dataframe thead th {\n",
       "        text-align: right;\n",
       "    }\n",
       "</style>\n",
       "<table border=\"1\" class=\"dataframe\">\n",
       "  <thead>\n",
       "    <tr style=\"text-align: right;\">\n",
       "      <th></th>\n",
       "      <th>Degrees of Freedom</th>\n",
       "      <th>Fraction Deviance Explained</th>\n",
       "    </tr>\n",
       "    <tr>\n",
       "      <th>lambda</th>\n",
       "      <th></th>\n",
       "      <th></th>\n",
       "    </tr>\n",
       "  </thead>\n",
       "  <tbody>\n",
       "    <tr>\n",
       "      <th>9.900000e+35</th>\n",
       "      <td>0</td>\n",
       "      <td>0.000000</td>\n",
       "    </tr>\n",
       "    <tr>\n",
       "      <th>3.274018e-02</th>\n",
       "      <td>8</td>\n",
       "      <td>0.028233</td>\n",
       "    </tr>\n",
       "    <tr>\n",
       "      <th>7.053658e-03</th>\n",
       "      <td>8</td>\n",
       "      <td>0.030612</td>\n",
       "    </tr>\n",
       "    <tr>\n",
       "      <th>1.519664e-03</th>\n",
       "      <td>8</td>\n",
       "      <td>0.030723</td>\n",
       "    </tr>\n",
       "    <tr>\n",
       "      <th>3.274018e-04</th>\n",
       "      <td>8</td>\n",
       "      <td>0.030728</td>\n",
       "    </tr>\n",
       "  </tbody>\n",
       "</table>\n",
       "</div>"
      ],
      "text/plain": [
       "              Degrees of Freedom  Fraction Deviance Explained\n",
       "lambda                                                       \n",
       "9.900000e+35                   0                     0.000000\n",
       "3.274018e-02                   8                     0.028233\n",
       "7.053658e-03                   8                     0.030612\n",
       "1.519664e-03                   8                     0.030723\n",
       "3.274018e-04                   8                     0.030728"
      ]
     },
     "execution_count": 7,
     "metadata": {},
     "output_type": "execute_result"
    }
   ],
   "source": [
    "L.summary_"
   ]
  },
  {
   "cell_type": "code",
   "execution_count": 8,
   "id": "cde1e857-9a2a-4e21-aa7a-619b7606804e",
   "metadata": {},
   "outputs": [],
   "source": [
    "%%R -o C_R1,C_R2,C_R3,I_R1,I_R2,I_R3\n",
    "C_R1 = as.matrix(coef(G)$y1)[-1,]\n",
    "C_R2 = as.matrix(coef(G)$y2)[-1,]\n",
    "C_R3 = as.matrix(coef(G)$y3)[-1,]\n",
    "I_R1 = as.matrix(coef(G)$y1)[1,]\n",
    "I_R2 = as.matrix(coef(G)$y2)[1,]\n",
    "I_R3 = as.matrix(coef(G)$y3)[1,]\n"
   ]
  },
  {
   "cell_type": "code",
   "execution_count": 9,
   "id": "24ab0bbc-95c6-4a4c-b54b-a32dfe824ed3",
   "metadata": {},
   "outputs": [
    {
     "data": {
      "text/plain": [
       "(5, 8, 3)"
      ]
     },
     "execution_count": 9,
     "metadata": {},
     "output_type": "execute_result"
    }
   ],
   "source": [
    "C_R = np.concatenate([C_R1.T[:,:,None], C_R2.T[:,:,None], C_R3.T[:,:,None]], axis=2)\n",
    "C_R.shape"
   ]
  },
  {
   "cell_type": "code",
   "execution_count": 10,
   "id": "6b9a4d80-80e0-48a4-b396-e825fdd51908",
   "metadata": {},
   "outputs": [
    {
     "data": {
      "text/plain": [
       "6.912366121602008e-16"
      ]
     },
     "execution_count": 10,
     "metadata": {},
     "output_type": "execute_result"
    }
   ],
   "source": [
    "np.linalg.norm(C_R - L.coefs_) / np.linalg.norm(L.coefs_)"
   ]
  },
  {
   "cell_type": "code",
   "execution_count": 11,
   "id": "0937cf14-47fe-4943-b910-4d525b8c9bd4",
   "metadata": {},
   "outputs": [
    {
     "data": {
      "text/plain": [
       "4.275803733978298e-16"
      ]
     },
     "execution_count": 11,
     "metadata": {},
     "output_type": "execute_result"
    }
   ],
   "source": [
    "I_R = np.array([I_R1,\n",
    "                I_R2,\n",
    "                I_R3])\n",
    "np.linalg.norm(I_R.T - L.intercepts_) / np.linalg.norm(L.intercepts_)"
   ]
  },
  {
   "cell_type": "code",
   "execution_count": 12,
   "id": "d1b35218-9f39-4baf-8af2-2ec5e2ce153f",
   "metadata": {},
   "outputs": [
    {
     "data": {
      "text/plain": [
       "((5, 3), (5, 8, 3))"
      ]
     },
     "execution_count": 12,
     "metadata": {},
     "output_type": "execute_result"
    }
   ],
   "source": [
    "L.intercepts_.shape, L.coefs_.shape"
   ]
  },
  {
   "cell_type": "code",
   "execution_count": 13,
   "id": "595d82a8-f83b-4d0e-bc2c-5c0e3c9f2b19",
   "metadata": {},
   "outputs": [
    {
     "data": {
      "text/plain": [
       "array([[ 0.00237267, -0.11412975, -0.11667125],\n",
       "       [-0.0067826 , -0.1197247 , -0.099763  ],\n",
       "       [-0.00853881, -0.12127891, -0.09549218],\n",
       "       [-0.00893242, -0.12158061, -0.09456818],\n",
       "       [-0.00901789, -0.12164394, -0.09436892]])"
      ]
     },
     "execution_count": 13,
     "metadata": {},
     "output_type": "execute_result"
    }
   ],
   "source": [
    "I_R.T"
   ]
  },
  {
   "cell_type": "code",
   "execution_count": null,
   "id": "416b9eea-4031-4394-9a5f-d81ba491b6f6",
   "metadata": {},
   "outputs": [],
   "source": []
  }
 ],
 "metadata": {
  "jupytext": {
   "formats": "ipynb,Rmd"
  },
  "kernelspec": {
   "display_name": "Python 3 (ipykernel)",
   "language": "python",
   "name": "python3"
  },
  "language_info": {
   "codemirror_mode": {
    "name": "ipython",
    "version": 3
   },
   "file_extension": ".py",
   "mimetype": "text/x-python",
   "name": "python",
   "nbconvert_exporter": "python",
   "pygments_lexer": "ipython3",
   "version": "3.10.12"
  }
 },
 "nbformat": 4,
 "nbformat_minor": 5
}
